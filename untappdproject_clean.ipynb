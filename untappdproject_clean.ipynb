{
 "cells": [
  {
   "cell_type": "markdown",
   "metadata": {},
   "source": [
    "Проект представляет собой расширение к веб-версии приложения для биргиков (любителей крафтового пива) Untappd, позволяющее пользоваться рядом функций, доступных пользователю только при оформлении подписки и/или получении ключа API, выдача которых почти полностью остановилась. Для исполнения всех ячеек требуется наличие браузера Firefox и драйвера geckodriver. "
   ]
  },
  {
   "cell_type": "code",
   "execution_count": 1,
   "metadata": {},
   "outputs": [],
   "source": [
    "import os\n",
    "import time\n",
    "import functools\n",
    "from collections import Counter\n",
    "from transliterate import translit\n",
    "from bs4 import BeautifulSoup \n",
    "from urllib import request\n",
    "from selenium import webdriver\n",
    "from selenium.common.exceptions import ElementNotInteractableException"
   ]
  },
  {
   "cell_type": "markdown",
   "metadata": {},
   "source": [
    "Класс BeerDataExport запускает браузер через selenium (для этого нужен второй профиль браузера и geckodriver – без них не удастся обойти капчу при логине), прокручивает до низа выбранный url и экспортирует полученную html-страницу в файл."
   ]
  },
  {
   "cell_type": "code",
   "execution_count": 2,
   "metadata": {},
   "outputs": [],
   "source": [
    "class BeerDataExport:\n",
    "    \n",
    "    def __init__(self, ffdir, geckodriver_dir, url, source_type='bar'):\n",
    "        \n",
    "        # source_type options: 'bar', 'brewery', 'acc' (personal account export), 'wishlist'\n",
    "        \n",
    "        self.ffdir = ffdir\n",
    "        self.geckodriver_dir = geckodriver_dir\n",
    "        self.url = url\n",
    "        self.source_type = source_type\n",
    "        self.run_the_browser(ffdir, geckodriver_dir, url, source_type)\n",
    "    \n",
    "    def run_the_browser(self, ffdir, geckodriver_dir, url, source_type):\n",
    "        \n",
    "        ffprofile = webdriver.FirefoxProfile(ffdir)\n",
    "        driver = webdriver.Firefox(executable_path = geckodriver_dir, firefox_profile=ffprofile) \n",
    "        driver.get(url)\n",
    "        \n",
    "        if self.source_type == 'bar':\n",
    "            filename = 'bar'\n",
    "            btn = driver.find_element_by_css_selector(\"a.yellow.button.more.show-more-section.track-click\")\n",
    "        elif self.source_type == 'brewery':\n",
    "            filename = 'brewery'\n",
    "            btn = driver.find_element_by_css_selector(\"a.button.yellow\")\n",
    "        elif self.source_type == 'acc':\n",
    "            filename = 'acc'\n",
    "            btn = driver.find_element_by_css_selector(\"a.button.yellow.more.more-list-items.track-click\")\n",
    "        elif self.source_type == 'wishlist':\n",
    "            filename = 'wishlist'\n",
    "            btn = driver.find_element_by_css_selector(\"a.yellow.button.more.more-list-items\")\n",
    "        else:\n",
    "            print('no such source type.')\n",
    "        \n",
    "        old_position = 0\n",
    "        new_position = None\n",
    "\n",
    "        while True:\n",
    "            try:\n",
    "                while new_position != old_position:\n",
    "                    old_position = driver.execute_script(\n",
    "                            (\"return (window.pageYOffset !== undefined) ?\"\n",
    "                             \" window.pageYOffset : (document.documentElement ||\"\n",
    "                             \" document.body.parentNode || document.body);\"))\n",
    "                    time.sleep(1)\n",
    "                    driver.execute_script((\n",
    "                            \"var scrollingElement = (document.scrollingElement ||\"\n",
    "                            \" document.body);scrollingElement.scrollTop =\"\n",
    "                            \" scrollingElement.scrollHeight;\"))\n",
    "                    btn.click()\n",
    "                    new_position = driver.execute_script(\n",
    "                            (\"return (window.pageYOffset !== undefined) ?\"\n",
    "                             \" window.pageYOffset : (document.documentElement ||\"\n",
    "                             \" document.body.parentNode || document.body);\"))\n",
    "            except ElementNotInteractableException:\n",
    "                with open('{}.html'.format(filename), 'w') as f:\n",
    "                    f.write(driver.page_source)\n",
    "                break "
   ]
  },
  {
   "cell_type": "markdown",
   "metadata": {},
   "source": [
    "Тесты "
   ]
  },
  {
   "cell_type": "code",
   "execution_count": 3,
   "metadata": {},
   "outputs": [
    {
     "data": {
      "text/plain": [
       "<__main__.BeerDataExport at 0x7fc17ea73110>"
      ]
     },
     "execution_count": 3,
     "metadata": {},
     "output_type": "execute_result"
    }
   ],
   "source": [
    "BeerDataExport('/Users/macbookpro/Library/Application Support/Firefox/Profiles/p4mnjkfe.untappd',\n",
    "               '/Users/macbookpro/Downloads/geckodriver',\n",
    "               'https://untappd.com/v/share-house/7728362?ng_menu_id=2af7b1fd-7ca0-4ed7-9ecf-4db4920877c9',\n",
    "               source_type='bar')"
   ]
  },
  {
   "cell_type": "code",
   "execution_count": 4,
   "metadata": {},
   "outputs": [
    {
     "data": {
      "text/plain": [
       "<__main__.BeerDataExport at 0x7fc17eaba550>"
      ]
     },
     "execution_count": 4,
     "metadata": {},
     "output_type": "execute_result"
    }
   ],
   "source": [
    "BeerDataExport('/Users/macbookpro/Library/Application Support/Firefox/Profiles/p4mnjkfe.untappd',\n",
    "               '/Users/macbookpro/Downloads/geckodriver',\n",
    "               'https://untappd.com/AntiFactory/beer',\n",
    "               source_type='brewery')"
   ]
  },
  {
   "cell_type": "code",
   "execution_count": 5,
   "metadata": {},
   "outputs": [
    {
     "data": {
      "text/plain": [
       "<__main__.BeerDataExport at 0x7fc184601150>"
      ]
     },
     "execution_count": 5,
     "metadata": {},
     "output_type": "execute_result"
    }
   ],
   "source": [
    "BeerDataExport('/Users/macbookpro/Library/Application Support/Firefox/Profiles/p4mnjkfe.untappd',\n",
    "               '/Users/macbookpro/Downloads/geckodriver',\n",
    "               'https://untappd.com/user/sheamrock/beers',\n",
    "               source_type='acc')"
   ]
  },
  {
   "cell_type": "code",
   "execution_count": 6,
   "metadata": {},
   "outputs": [
    {
     "data": {
      "text/plain": [
       "<__main__.BeerDataExport at 0x7fc184606750>"
      ]
     },
     "execution_count": 6,
     "metadata": {},
     "output_type": "execute_result"
    }
   ],
   "source": [
    "BeerDataExport('/Users/macbookpro/Library/Application Support/Firefox/Profiles/p4mnjkfe.untappd',\n",
    "               '/Users/macbookpro/Downloads/geckodriver',\n",
    "               'https://untappd.com/user/mettathrone/wishlist',\n",
    "               source_type='wishlist')"
   ]
  },
  {
   "cell_type": "markdown",
   "metadata": {},
   "source": [
    "Класс BeerDataParse содержит парсер полученной ранее html-страницы, складывающий данные о позициях в список словарей. Также класс содержит декоратор, позволяющий привести выдачу парсера к более комфортно читаемому виду."
   ]
  },
  {
   "cell_type": "code",
   "execution_count": 7,
   "metadata": {},
   "outputs": [],
   "source": [
    "class BeerDataParse:\n",
    "    \n",
    "    def __init__(self):\n",
    "        pass\n",
    "    \n",
    "    def BeautifyOutput(func):\n",
    "        @functools.wraps(func)\n",
    "        def wrapper(*args, **kwargs):\n",
    "            bar_beauty = func(*args, **kwargs)\n",
    "            result = []\n",
    "            for beer in bar_beauty:\n",
    "                result.append(beer['beer'] + '\\n' + beer['style'] + '\\n' + str(beer['rating']) + '\\n' \n",
    "                      + beer['brewery'] + '\\n' + beer['link'] + '\\n\\n')\n",
    "            return result\n",
    "        return wrapper\n",
    "               \n",
    "    def parse_the_list(self, filename, source_type):\n",
    "        \n",
    "        beers = []\n",
    "        \n",
    "        with open(filename) as f:\n",
    "            contents = f.read()\n",
    "        soup = BeautifulSoup(contents)\n",
    "        \n",
    "        if source_type == 'bar':\n",
    "            \n",
    "            beers_raw = soup.find_all(\"div\", class_=\"beer-details\")\n",
    "            for beer in beers_raw:\n",
    "                h5 = beer.find('h5')\n",
    "                h5_a = h5.find('a')    \n",
    "                beer_link = f\"https://untappd.com{h5_a['href']}\"\n",
    "                beer_name = h5_a.get_text()\n",
    "                brewery = beer.find(\"a\", attrs={\"data-href\": \":brewery\"}).get_text()\n",
    "                style = h5.find(\"em\").get_text()\n",
    "                try:\n",
    "                    rating = float(beer.find(\"div\", class_=\"caps\")[\"data-rating\"])\n",
    "                except:\n",
    "                    rating = None\n",
    "                beers.append({\"beer\": beer_name, \"style\": style, \"rating\": rating, \"brewery\": brewery, \"link\": beer_link})\n",
    "    \n",
    "        elif source_type == 'brewery':\n",
    "            \n",
    "            ratings_raw = soup.find_all('span', class_='num')\n",
    "            ratings = []\n",
    "            for rt in ratings_raw:\n",
    "                rating_raw = rt.get_text()\n",
    "                rating_line = str(rating_raw)\n",
    "                rating = rating_line[1:-1]\n",
    "                ratings.append(rating)\n",
    "            beers_raw = soup.find_all('div', class_='beer-details')\n",
    "            i = 0\n",
    "            for beer in beers_raw:\n",
    "                a = beer.find('a')\n",
    "                beer_name = beer.find('p').get_text()\n",
    "                beer_link = f\"https://untappd.com{a['href']}\"\n",
    "                brewery = 'similar'\n",
    "                style = beer.find('p', class_='style').get_text()\n",
    "                try:\n",
    "                    rating = ratings[i]\n",
    "                except:\n",
    "                    rating = None\n",
    "                i += 1\n",
    "                beers.append({\"beer\": beer_name, \"style\": style, \"rating\": rating, \"brewery\": brewery, \"link\": beer_link}) \n",
    "                \n",
    "        elif source_type == 'acc':\n",
    "            \n",
    "            beers_raw = soup.find_all(\"div\", class_=\"beer-details\")\n",
    "            for beer in beers_raw:\n",
    "                p = beer.find('p')\n",
    "                a = p.find('a')\n",
    "                beer_name = p.get_text()\n",
    "                beer_link = f\"https://untappd.com{a['href']}\"\n",
    "                brewery = beer.find('p', class_='brewery').get_text()\n",
    "                style = beer.find('p', class_='style').get_text()\n",
    "                try:\n",
    "                    rating = float(beer.find(\"div\", class_=\"caps\")[\"data-rating\"])\n",
    "                except:\n",
    "                    rating = None\n",
    "                beers.append({\"beer\": beer_name, \"style\": style, \"rating\": rating, \"brewery\": brewery, \"link\": beer_link}) \n",
    "\n",
    "        elif source_type == 'wishlist':\n",
    "            \n",
    "            beers_raw = soup.find_all('div', class_='item-info')\n",
    "            for beer in beers_raw:\n",
    "                beer_name = beer.find('h2').get_text()\n",
    "                h2 = beer.find('h2')\n",
    "                a = h2.find('a')\n",
    "                beer_link = f\"https://untappd.com{a['href']}\"\n",
    "                brewery = beer.find('h3').get_text()\n",
    "                desc = beer.find('h4').get_text()\n",
    "                style = desc.split('•')[0]\n",
    "                try:\n",
    "                    rating = float(beer.find(\"div\", class_=\"caps\")[\"data-rating\"])\n",
    "                except:\n",
    "                    rating = None\n",
    "                beers.append({\"beer\": beer_name, \"style\": style, \"rating\": rating, \"brewery\": brewery, \"link\": beer_link}) \n",
    "\n",
    "        else:\n",
    "            print('no such source type.')\n",
    "        \n",
    "        with open('beers.txt', 'w') as f:\n",
    "            f.write(str(beers))\n",
    "        \n",
    "        return beers\n",
    "    \n",
    "    @BeautifyOutput \n",
    "    def parse_beautifully(self, filename, source_type):\n",
    "        result = self.parse_the_list(filename,source_type)\n",
    "        return result"
   ]
  },
  {
   "cell_type": "markdown",
   "metadata": {},
   "source": [
    "Тесты"
   ]
  },
  {
   "cell_type": "code",
   "execution_count": 8,
   "metadata": {},
   "outputs": [],
   "source": [
    "bdp = BeerDataParse()"
   ]
  },
  {
   "cell_type": "code",
   "execution_count": 9,
   "metadata": {},
   "outputs": [
    {
     "name": "stdout",
     "output_type": "stream",
     "text": [
      "{'beer': 'СИДР / CIDER ', 'style': 'Cider - Traditional', 'rating': 3.632, 'brewery': 'Vasileostrovskaya Brewery (Василеостровская Пивоварня)', 'link': 'https://untappd.com/b/vasileostrovskaya-brewery-vasileostrovskaya-pivovarnya-sidr-cider/570158'}\n"
     ]
    }
   ],
   "source": [
    "bar = bdp.parse_the_list('bar.html', 'bar')\n",
    "print(bar[0])"
   ]
  },
  {
   "cell_type": "code",
   "execution_count": 10,
   "metadata": {},
   "outputs": [
    {
     "name": "stdout",
     "output_type": "stream",
     "text": [
      "СИДР / CIDER \n",
      "Cider - Traditional\n",
      "3.632\n",
      "Vasileostrovskaya Brewery (Василеостровская Пивоварня)\n",
      "https://untappd.com/b/vasileostrovskaya-brewery-vasileostrovskaya-pivovarnya-sidr-cider/570158\n",
      "\n",
      "\n"
     ]
    }
   ],
   "source": [
    "bar_b = bdp.parse_beautifully('bar.html', 'bar')\n",
    "print(bar_b[0])"
   ]
  },
  {
   "cell_type": "code",
   "execution_count": 11,
   "metadata": {},
   "outputs": [
    {
     "name": "stdout",
     "output_type": "stream",
     "text": [
      "{'beer': 'Redrum IPA Special Edition', 'style': 'IPA - Imperial / Double', 'rating': '3.96', 'brewery': 'similar', 'link': 'https://untappd.com/b/af-brew-redrum-ipa-special-edition/915280'}\n"
     ]
    }
   ],
   "source": [
    "brewery = bdp.parse_the_list('brewery.html', 'brewery')\n",
    "print(brewery[0])"
   ]
  },
  {
   "cell_type": "code",
   "execution_count": 12,
   "metadata": {},
   "outputs": [
    {
     "name": "stdout",
     "output_type": "stream",
     "text": [
      "{'beer': '(REMIX) Tiki Jazz', 'style': 'Sour - Fruited', 'rating': 4.0, 'brewery': 'Jaws Brewery', 'link': 'https://untappd.com/b/jaws-brewery-remix-tiki-jazz/3724443'}\n"
     ]
    }
   ],
   "source": [
    "acc = bdp.parse_the_list('acc.html', 'acc')\n",
    "print(acc[0])"
   ]
  },
  {
   "cell_type": "code",
   "execution_count": 13,
   "metadata": {},
   "outputs": [
    {
     "name": "stdout",
     "output_type": "stream",
     "text": [
      "{'beer': 'Якудза (Yakuza)', 'style': 'Spiced / Herbed Beer ', 'rating': 3.56, 'brewery': 'Hophead Brewery', 'link': 'https://untappd.com/b/hophead-brewery-yakudza-yakuza/1309384'}\n"
     ]
    }
   ],
   "source": [
    "wish = bdp.parse_the_list('wishlist.html', 'wishlist')\n",
    "print(wish[0])"
   ]
  },
  {
   "cell_type": "markdown",
   "metadata": {},
   "source": [
    "Класс FiddlingWithBeers содержит, собственно, основные значимые функции: вывод топа по оценке или по стилю, рекомендация напитка из ассортимента бара или пивоварни на основании данных собственного аккаунта, проверка наличия позиций из вишлиста в ассортименте бара и бонус — функцию birthday_gift, которая позволяет собрать подарочный пак из позиций бара, начинающихся на буквы имени именинника. "
   ]
  },
  {
   "cell_type": "code",
   "execution_count": 14,
   "metadata": {},
   "outputs": [],
   "source": [
    "class FiddlingWithBeers(BeerDataParse):\n",
    "\n",
    "    def top_beers(self, beers, n):\n",
    "        for beer in beers:\n",
    "            if beer['rating'] == None:\n",
    "                beer['rating'] = 0\n",
    "        beers_sorted = sorted(beers, key=lambda x: x['rating']) \n",
    "        return beers_sorted[-n:]\n",
    "    \n",
    "    def top_beers_by_style(self, beers, n):\n",
    "        for beer in beers:\n",
    "            if beer['rating'] == None:\n",
    "                beer['rating'] = 0\n",
    "        styles = []\n",
    "        for beer in beers:\n",
    "            if beer['style'] not in styles:\n",
    "                styles.append(beer['style'])\n",
    "        styles = sorted(styles)\n",
    "        print(styles)\n",
    "        selected_style = input()\n",
    "        selected_top = []\n",
    "        for beer in beers:\n",
    "            if beer['style'] == selected_style:\n",
    "                selected_top.append(beer)\n",
    "        beers_sorted = sorted(selected_top, key=lambda x: x['rating'])\n",
    "        return beers_sorted[-3:]\n",
    "    \n",
    "    def recommend_beer(self, acc_beers, bar_beers, n):\n",
    "        top = self.top_beers(acc_beers, 10)\n",
    "        top_acc_styles = []\n",
    "        for t in top:\n",
    "            if t['style'] not in top_acc_styles:\n",
    "                top_acc_styles.append(t['style'])\n",
    "        selected_style = []\n",
    "        for beer in bar_beers:\n",
    "            if beer['style'] in top_acc_styles:\n",
    "                selected_style.append(beer)\n",
    "        selected_style_sorted = sorted(selected_style, key=lambda x: x['rating']) \n",
    "        return selected_style_sorted[-n:]\n",
    "    \n",
    "    def check_wishlist(self, acc_beers, bar_beers):\n",
    "        result = []\n",
    "        for beer in acc_beers:\n",
    "            if beer in bar_beers:\n",
    "                result.append(beer)\n",
    "        return result\n",
    "    \n",
    "    #bonus function\n",
    "    \n",
    "    def birthday_gift(self, name, acc, beers):\n",
    "        \n",
    "        beers_not_drunk = [x for x in beers if x[\"link\"] not in {l[\"link\"] for l in acc}]\n",
    "        ru = Counter(name)\n",
    "        en = Counter([translit(k, \"ru\", reversed=True) for k in list(name)])\n",
    "        \n",
    "        letters = set(ru.keys()) | set(en.keys()) | {\"z\"}\n",
    "        beers_by_letter = {}\n",
    "        \n",
    "        for letter in letters:\n",
    "            beers_by_letter[letter] = [x for x in beers_not_drunk if x[\"beer\"].lower().startswith(letter)]\n",
    "            \n",
    "        rest_beers = [x for x in beers if not any(x[\"beer\"].lower().startswith(letter) for letter in letters)]\n",
    "        take_from_rest = 0\n",
    "        \n",
    "        result = []\n",
    "        used_letters = set()\n",
    "        for l_ru in name:\n",
    "            if l_ru in used_letters:\n",
    "                continue\n",
    "            used_letters.add(l_ru)\n",
    "            needed = ru[l_ru]\n",
    "            l_en = translit(l_ru, \"ru\", reversed=True)\n",
    "            beers_ = sorted(beers_by_letter[l_en] + beers_by_letter[l_ru], key=lambda x: x.get(\"rating\") or 0, reverse=True)\n",
    "            print(\"letter {}\".format(l_ru))\n",
    "            if needed > len(beers_):\n",
    "                diff = needed - len(beers_)\n",
    "                take_from_rest += diff\n",
    "                print(\"adding {} beers to take from rest\".format(diff))\n",
    "            beers_to_take = beers_[:needed]\n",
    "            result.extend(beers_to_take)\n",
    "            print(\"\\n\".join(x[\"beer\"] for x in beers_to_take))\n",
    "        print(\"taking {} beers from rest\".format(take_from_rest))\n",
    "        rest_ = sorted(rest_beers, key=lambda x: x.get(\"rating\") or 0, reverse=True)\n",
    "        beers_to_take = rest_[:take_from_rest]\n",
    "        result.extend(beers_to_take)\n",
    "        print(\"\\n\".join(x[\"beer\"] for x in beers_to_take))"
   ]
  },
  {
   "cell_type": "markdown",
   "metadata": {},
   "source": [
    "Тесты"
   ]
  },
  {
   "cell_type": "code",
   "execution_count": 15,
   "metadata": {},
   "outputs": [],
   "source": [
    "fwb = FiddlingWithBeers()"
   ]
  },
  {
   "cell_type": "code",
   "execution_count": 16,
   "metadata": {},
   "outputs": [
    {
     "name": "stdout",
     "output_type": "stream",
     "text": [
      "letter д\n",
      "Достоевский. Том 5\n",
      "letter а\n",
      "All Sails Ripped\n",
      "Альтер Эго\n",
      "letter р\n",
      "Rosé de Gambrinus (2019)\n",
      "letter т\n",
      "TERRE - ANNATA 2010\n",
      "letter н\n",
      "Noble Apple (2019)\n",
      "Natrium Gose\n",
      "letter ь\n",
      "adding 1 beers to take from rest\n",
      "\n",
      "letter я\n",
      "Jack Hammer\n",
      "taking 1 beers from rest\n",
      "XYAUYU' KENTUCKY - RISERVA 2015\n"
     ]
    }
   ],
   "source": [
    "fwb.birthday_gift('дартаньян', acc, bar)"
   ]
  },
  {
   "cell_type": "code",
   "execution_count": 18,
   "metadata": {},
   "outputs": [
    {
     "data": {
      "text/plain": [
       "[{'beer': \"XYAUYU' FUME - RISERVA 2014\",\n",
       "  'style': 'Barleywine - Other',\n",
       "  'rating': 4.419,\n",
       "  'brewery': 'BIRRIFICIO AGRICOLO BALADIN - Baladin Indipendente Italian Farm Brewery',\n",
       "  'link': 'https://untappd.com/b/birrificio-agricolo-baladin-baladin-indipendente-italian-farm-brewery-xyauyu-fume-riserva-2014/2915524'},\n",
       " {'beer': '3 Fonteinen Oude Geuze Cuvée Armand & Gaston (season 17|18) Blend No. 25',\n",
       "  'style': 'Lambic - Gueuze',\n",
       "  'rating': 4.441,\n",
       "  'brewery': 'Brouwerij 3 Fonteinen',\n",
       "  'link': 'https://untappd.com/b/brouwerij-3-fonteinen-3-fonteinen-oude-geuze-cuvee-armand-and-gaston-season-17-18-blend-no-25/3028849'},\n",
       " {'beer': 'XYAUYÙ BARREL - RISERVA 2014',\n",
       "  'style': 'Barleywine - Other',\n",
       "  'rating': 4.494,\n",
       "  'brewery': 'BIRRIFICIO AGRICOLO BALADIN - Baladin Indipendente Italian Farm Brewery',\n",
       "  'link': 'https://untappd.com/b/birrificio-agricolo-baladin-baladin-indipendente-italian-farm-brewery-xyauyu-barrel-riserva-2014/2963304'},\n",
       " {'beer': \"XYAUYU' KENTUCKY - RISERVA 2015\",\n",
       "  'style': 'Barleywine - Other',\n",
       "  'rating': 4.542,\n",
       "  'brewery': 'BIRRIFICIO AGRICOLO BALADIN - Baladin Indipendente Italian Farm Brewery',\n",
       "  'link': 'https://untappd.com/b/birrificio-agricolo-baladin-baladin-indipendente-italian-farm-brewery-xyauyu-kentucky-riserva-2015/2915525'}]"
      ]
     },
     "execution_count": 18,
     "metadata": {},
     "output_type": "execute_result"
    }
   ],
   "source": [
    "fwb.top_beers(bar, 4)"
   ]
  },
  {
   "cell_type": "code",
   "execution_count": 19,
   "metadata": {},
   "outputs": [
    {
     "name": "stdout",
     "output_type": "stream",
     "text": [
      "['American Wild Ale', 'Australian Sparkling Ale', 'Barleywine - American', 'Barleywine - English', 'Barleywine - Other', 'Belgian Dubbel', 'Belgian Quadrupel', 'Belgian Strong Dark Ale', 'Belgian Strong Golden Ale', 'Belgian Tripel', 'Bière de Champagne / Bière Brut', 'Bock - Doppelbock', 'Bock - Hell / Maibock / Lentebock', 'Bock - Single / Traditional', 'Bock - Weizenbock', 'Brown Ale - American', 'Brown Ale - English', 'Brown Ale - Imperial / Double', 'Burton Ale', 'Chilli / Chile Beer', 'Cider - Dry', 'Cider - Herbed / Spiced / Hopped', 'Cider - Other Fruit', 'Cider - Perry', 'Cider - Traditional', 'Dark Ale', 'English Bitter', 'Farmhouse Ale - Other', 'Farmhouse Ale - Sahti', 'Farmhouse Ale - Saison', 'Fruit Beer', 'Gluten-Free', 'Hefeweizen', 'IPA - American', 'IPA - Belgian', 'IPA - English', 'IPA - Imperial / Double', 'IPA - Imperial / Double New England', 'IPA - International', 'IPA - Milkshake', 'IPA - New England', 'IPA - Session / India Session Ale', 'IPA - Sour', 'IPA - Triple', 'Lager - Helles', 'Lager - Munich Dunkel', 'Lager - Pale', 'Lambic - Framboise', 'Lambic - Gueuze', 'Lambic - Kriek', 'Mead - Braggot', 'Mead - Melomel', 'Mead - Metheglin', 'Non-Alcoholic Beer', 'Pale Ale - American', 'Pale Ale - Australian', 'Pale Ale - English', 'Pale Ale - Milkshake', 'Pale Ale - New Zealand', 'Pilsner - German', 'Pilsner - Other', 'Porter - American', 'Porter - Baltic', 'Porter - Imperial / Double Baltic', 'Porter - Other', 'Red Ale - Imperial / Double', 'Sour - Flanders Oud Bruin', 'Sour - Fruited', 'Sour - Fruited Berliner Weisse', 'Sour - Fruited Gose', 'Sour - Gose', 'Sour - Other', 'Stout - American', 'Stout - Coffee', 'Stout - Foreign / Export', 'Stout - Imperial / Double', 'Stout - Imperial / Double Coffee', 'Stout - Imperial / Double Milk', 'Stout - Imperial / Double Oatmeal', 'Stout - Imperial / Double Pastry', 'Stout - Imperial / Double White', 'Stout - Milk / Sweet', 'Stout - Oatmeal', 'Stout - Other', 'Stout - Pastry', 'Stout - Russian Imperial', 'Strong Ale - American', 'Strong Ale - English', 'Wheat Beer - Wheat Wine', 'Wheat Beer - Witbier', 'Wild Ale - Other', 'Winter Ale', 'Winter Warmer']\n",
      "IPA - Imperial / Double\n"
     ]
    },
    {
     "data": {
      "text/plain": [
       "[{'beer': 'MAD PRINTER',\n",
       "  'style': 'IPA - Imperial / Double',\n",
       "  'rating': 3.917,\n",
       "  'brewery': 'Ostrovica',\n",
       "  'link': 'https://untappd.com/b/ostrovica-mad-printer/3808840'},\n",
       " {'beer': 'Dandy Rover',\n",
       "  'style': 'IPA - Imperial / Double',\n",
       "  'rating': 3.95,\n",
       "  'brewery': 'GAS Brew',\n",
       "  'link': 'https://untappd.com/b/gas-brew-dandy-rover/3403044'},\n",
       " {'beer': 'Minor 6th',\n",
       "  'style': 'IPA - Imperial / Double',\n",
       "  'rating': 3.997,\n",
       "  'brewery': 'Ostrovica',\n",
       "  'link': 'https://untappd.com/b/ostrovica-minor-6th/3809672'}]"
      ]
     },
     "execution_count": 19,
     "metadata": {},
     "output_type": "execute_result"
    }
   ],
   "source": [
    "fwb.top_beers_by_style(bar, 3)"
   ]
  },
  {
   "cell_type": "code",
   "execution_count": 20,
   "metadata": {},
   "outputs": [
    {
     "data": {
      "text/plain": [
       "{'beer': 'Якудза (Yakuza)',\n",
       " 'style': 'Spiced / Herbed Beer ',\n",
       " 'rating': 3.56,\n",
       " 'brewery': 'Hophead Brewery',\n",
       " 'link': 'https://untappd.com/b/hophead-brewery-yakudza-yakuza/1309384'}"
      ]
     },
     "execution_count": 20,
     "metadata": {},
     "output_type": "execute_result"
    }
   ],
   "source": [
    "fwb.check_wishlist(wish, wish)[0]"
   ]
  }
 ],
 "metadata": {
  "kernelspec": {
   "display_name": "Python 3",
   "language": "python",
   "name": "python3"
  },
  "language_info": {
   "codemirror_mode": {
    "name": "ipython",
    "version": 3
   },
   "file_extension": ".py",
   "mimetype": "text/x-python",
   "name": "python",
   "nbconvert_exporter": "python",
   "pygments_lexer": "ipython3",
   "version": "3.7.4"
  }
 },
 "nbformat": 4,
 "nbformat_minor": 2
}
